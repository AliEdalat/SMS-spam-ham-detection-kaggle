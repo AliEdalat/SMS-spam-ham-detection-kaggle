{
  "nbformat": 4,
  "nbformat_minor": 0,
  "metadata": {
    "colab": {
      "name": "spam-ham.ipynb",
      "version": "0.3.2",
      "provenance": [],
      "collapsed_sections": [],
      "include_colab_link": true
    },
    "kernelspec": {
      "name": "python3",
      "display_name": "Python 3"
    }
  },
  "cells": [
    {
      "cell_type": "markdown",
      "metadata": {
        "id": "view-in-github",
        "colab_type": "text"
      },
      "source": [
        "<a href=\"https://colab.research.google.com/github/AliEdalat/SMS-spam-ham-detection-kaggle/blob/master/spam_ham.ipynb\" target=\"_parent\"><img src=\"https://colab.research.google.com/assets/colab-badge.svg\" alt=\"Open In Colab\"/></a>"
      ]
    },
    {
      "cell_type": "code",
      "metadata": {
        "id": "sgTt-awTvxCR",
        "colab_type": "code",
        "colab": {}
      },
      "source": [
        "import pandas as pd\n",
        "\n",
        "data = pd.read_csv('spam.csv', encoding='latin-1')\n",
        "data = data.drop(['Unnamed: 2','Unnamed: 3','Unnamed: 4'],axis=1)"
      ],
      "execution_count": 0,
      "outputs": []
    },
    {
      "cell_type": "code",
      "metadata": {
        "id": "iLiGAdxSxD6a",
        "colab_type": "code",
        "outputId": "27bd5986-39ae-4b18-f171-480a06009742",
        "colab": {
          "base_uri": "https://localhost:8080/",
          "height": 296
        }
      },
      "source": [
        "!pip install urlextract\n",
        "import urlextract\n",
        "import re\n",
        "import numpy as np\n",
        "\n",
        "url_extractor = urlextract.URLExtract()\n",
        "\n",
        "data = data.replace(['ham','spam'],[0, 1])\n",
        "data['Count']=0\n",
        "for i in np.arange(0,len(data.v2)):\n",
        "    data.loc[i,'Count'] = len(data.loc[i,'v2'])\n",
        "data['URL'] = 0\n",
        "for i in np.arange(0,len(data.v2)):\n",
        "    data.loc[i,'URL'] = 1 if len(url_extractor.find_urls(data.loc[i,'v2'])) > 0 else 0\n",
        "\n",
        "data['NUMBER'] = 0\n",
        "for i in np.arange(0,len(data.v2)):\n",
        "    data.loc[i,'NUMBER'] = 1 if len(re.findall(r'\\d+(?:\\.\\d*(?:[eE]\\d+))?', data.loc[i,'v2'])) > 0 else 0\n",
        "\n",
        "\n",
        "\n",
        "data.head()"
      ],
      "execution_count": 11,
      "outputs": [
        {
          "output_type": "stream",
          "text": [
            "Requirement already satisfied: urlextract in /usr/local/lib/python3.6/dist-packages (0.13.0)\n",
            "Requirement already satisfied: uritools in /usr/local/lib/python3.6/dist-packages (from urlextract) (2.2.0)\n",
            "Requirement already satisfied: appdirs in /usr/local/lib/python3.6/dist-packages (from urlextract) (1.4.3)\n",
            "Requirement already satisfied: idna in /usr/local/lib/python3.6/dist-packages (from urlextract) (2.8)\n"
          ],
          "name": "stdout"
        },
        {
          "output_type": "execute_result",
          "data": {
            "text/html": [
              "<div>\n",
              "<style scoped>\n",
              "    .dataframe tbody tr th:only-of-type {\n",
              "        vertical-align: middle;\n",
              "    }\n",
              "\n",
              "    .dataframe tbody tr th {\n",
              "        vertical-align: top;\n",
              "    }\n",
              "\n",
              "    .dataframe thead th {\n",
              "        text-align: right;\n",
              "    }\n",
              "</style>\n",
              "<table border=\"1\" class=\"dataframe\">\n",
              "  <thead>\n",
              "    <tr style=\"text-align: right;\">\n",
              "      <th></th>\n",
              "      <th>v1</th>\n",
              "      <th>v2</th>\n",
              "      <th>Count</th>\n",
              "      <th>URL</th>\n",
              "      <th>NUMBER</th>\n",
              "    </tr>\n",
              "  </thead>\n",
              "  <tbody>\n",
              "    <tr>\n",
              "      <th>0</th>\n",
              "      <td>0</td>\n",
              "      <td>Go until jurong point, crazy.. Available only ...</td>\n",
              "      <td>111</td>\n",
              "      <td>0</td>\n",
              "      <td>0</td>\n",
              "    </tr>\n",
              "    <tr>\n",
              "      <th>1</th>\n",
              "      <td>0</td>\n",
              "      <td>Ok lar... Joking wif u oni...</td>\n",
              "      <td>29</td>\n",
              "      <td>0</td>\n",
              "      <td>0</td>\n",
              "    </tr>\n",
              "    <tr>\n",
              "      <th>2</th>\n",
              "      <td>1</td>\n",
              "      <td>Free entry in 2 a wkly comp to win FA Cup fina...</td>\n",
              "      <td>155</td>\n",
              "      <td>0</td>\n",
              "      <td>1</td>\n",
              "    </tr>\n",
              "    <tr>\n",
              "      <th>3</th>\n",
              "      <td>0</td>\n",
              "      <td>U dun say so early hor... U c already then say...</td>\n",
              "      <td>49</td>\n",
              "      <td>0</td>\n",
              "      <td>0</td>\n",
              "    </tr>\n",
              "    <tr>\n",
              "      <th>4</th>\n",
              "      <td>0</td>\n",
              "      <td>Nah I don't think he goes to usf, he lives aro...</td>\n",
              "      <td>61</td>\n",
              "      <td>0</td>\n",
              "      <td>0</td>\n",
              "    </tr>\n",
              "  </tbody>\n",
              "</table>\n",
              "</div>"
            ],
            "text/plain": [
              "   v1                                                 v2  Count  URL  NUMBER\n",
              "0   0  Go until jurong point, crazy.. Available only ...    111    0       0\n",
              "1   0                      Ok lar... Joking wif u oni...     29    0       0\n",
              "2   1  Free entry in 2 a wkly comp to win FA Cup fina...    155    0       1\n",
              "3   0  U dun say so early hor... U c already then say...     49    0       0\n",
              "4   0  Nah I don't think he goes to usf, he lives aro...     61    0       0"
            ]
          },
          "metadata": {
            "tags": []
          },
          "execution_count": 11
        }
      ]
    },
    {
      "cell_type": "code",
      "metadata": {
        "id": "PyexitPhxKVb",
        "colab_type": "code",
        "outputId": "c2c9dd98-841e-4490-bba9-d42c3dc9fd50",
        "colab": {
          "base_uri": "https://localhost:8080/",
          "height": 69
        }
      },
      "source": [
        "import nltk\n",
        "nltk.download('stopwords')\n",
        "from nltk import stem\n",
        "from nltk.corpus import stopwords\n",
        "from nltk.stem.snowball import SnowballStemmer\n",
        "\n",
        "stemmer = stem.SnowballStemmer('english')\n",
        "stopwords = set(stopwords.words('english'))\n",
        "\n",
        "def alternative_review_messages(msg):\n",
        "    stemmer = SnowballStemmer(\"english\")\n",
        "    msg = re.sub(r'\\W+', ' ', msg, flags=re.M)\n",
        "    # converting messages to lowercase\n",
        "    msg = msg.lower()\n",
        "    urls = list(set(url_extractor.find_urls(msg)))\n",
        "    urls.sort(key=lambda url: len(url), reverse=True)\n",
        "    for url in urls:\n",
        "        msg = msg.replace(url, \"URL\")\n",
        "    msg = re.sub(r'\\d+(?:\\.\\d*(?:[eE]\\d+))?', 'NUMBER', msg)\n",
        "    # removing stopwords\n",
        "    msg = [word for word in msg.split() if word not in stopwords]\n",
        "    # using a stemmer\n",
        "    msg = \" \".join([stemmer.stem(word) for word in msg])\n",
        "    # print(msg)\n",
        "    # print(stemmer.stem(\"girls\"))\n",
        "    return msg\n",
        "\n",
        "print(alternative_review_messages('33Ok lar... Joking wif u oni...'))"
      ],
      "execution_count": 12,
      "outputs": [
        {
          "output_type": "stream",
          "text": [
            "[nltk_data] Downloading package stopwords to /root/nltk_data...\n",
            "[nltk_data]   Package stopwords is already up-to-date!\n",
            "numberok lar joke wif u oni\n"
          ],
          "name": "stdout"
        }
      ]
    },
    {
      "cell_type": "code",
      "metadata": {
        "id": "BJ9Ix2wX2-Zh",
        "colab_type": "code",
        "outputId": "ed0b32d8-a90c-47e2-ad95-2be3651d3418",
        "colab": {
          "base_uri": "https://localhost:8080/",
          "height": 34
        }
      },
      "source": [
        "all_ = []\n",
        "for i in np.arange(0,len(data.v2)):\n",
        "  all_.append(alternative_review_messages(data.loc[i,'v2']))\n",
        "  \n",
        "print(len(all_))"
      ],
      "execution_count": 13,
      "outputs": [
        {
          "output_type": "stream",
          "text": [
            "5572\n"
          ],
          "name": "stdout"
        }
      ]
    },
    {
      "cell_type": "code",
      "metadata": {
        "id": "HwP2gNgI4zwM",
        "colab_type": "code",
        "colab": {}
      },
      "source": [
        "from sklearn.feature_extraction.text import CountVectorizer\n",
        "cv = CountVectorizer()\n",
        "x = cv.fit_transform(all_).toarray()"
      ],
      "execution_count": 0,
      "outputs": []
    },
    {
      "cell_type": "code",
      "metadata": {
        "id": "9OH0IeHy44Mk",
        "colab_type": "code",
        "colab": {}
      },
      "source": [
        "y = data['v1']"
      ],
      "execution_count": 0,
      "outputs": []
    },
    {
      "cell_type": "code",
      "metadata": {
        "id": "NvV2aZ2f5E1o",
        "colab_type": "code",
        "colab": {}
      },
      "source": [
        "from sklearn.model_selection import train_test_split\n",
        "xtrain, xtest, ytrain, ytest = train_test_split(x, y,test_size= 0.20, random_state = 0)"
      ],
      "execution_count": 0,
      "outputs": []
    },
    {
      "cell_type": "code",
      "metadata": {
        "id": "gOkUGygc5GM7",
        "colab_type": "code",
        "outputId": "b954587e-fca0-475b-835e-24fc89bb90ec",
        "colab": {
          "base_uri": "https://localhost:8080/",
          "height": 34
        }
      },
      "source": [
        "from sklearn.naive_bayes import MultinomialNB\n",
        "from sklearn.metrics import classification_report\n",
        "\n",
        "dt = MultinomialNB()\n",
        "dt.fit(xtrain, ytrain)\n"
      ],
      "execution_count": 17,
      "outputs": [
        {
          "output_type": "execute_result",
          "data": {
            "text/plain": [
              "MultinomialNB(alpha=1.0, class_prior=None, fit_prior=True)"
            ]
          },
          "metadata": {
            "tags": []
          },
          "execution_count": 17
        }
      ]
    },
    {
      "cell_type": "code",
      "metadata": {
        "id": "q_sqyiIn5XkI",
        "colab_type": "code",
        "outputId": "3b1df076-70b8-4f96-e23d-f5bed33d40b3",
        "colab": {
          "base_uri": "https://localhost:8080/",
          "height": 243
        }
      },
      "source": [
        "y_pred_dt = dt.predict(xtest)\n",
        "print (classification_report(ytest, y_pred_dt))\n",
        "print('score: ', dt.score(xtest, ytest))\n",
        "from sklearn.metrics import recall_score\n",
        "print('recall: ', recall_score(ytest, y_pred_dt, average='macro'))\n",
        "from sklearn.metrics import precision_score\n",
        "print('prec: ', precision_score(ytest, y_pred_dt, average='macro'))\n",
        "from sklearn.metrics import f1_score\n",
        "print('f1_score: ', f1_score(ytest, y_pred_dt, average='macro'))"
      ],
      "execution_count": 18,
      "outputs": [
        {
          "output_type": "stream",
          "text": [
            "              precision    recall  f1-score   support\n",
            "\n",
            "           0       0.99      0.99      0.99       949\n",
            "           1       0.93      0.97      0.95       166\n",
            "\n",
            "    accuracy                           0.98      1115\n",
            "   macro avg       0.96      0.98      0.97      1115\n",
            "weighted avg       0.98      0.98      0.98      1115\n",
            "\n",
            "score:  0.9838565022421525\n",
            "recall:  0.9780904439676514\n",
            "prec:  0.9599869300206433\n",
            "f1_score:  0.968767507002801\n"
          ],
          "name": "stdout"
        }
      ]
    }
  ]
}